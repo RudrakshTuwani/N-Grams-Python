{
 "cells": [
  {
   "cell_type": "code",
   "execution_count": 5,
   "metadata": {
    "collapsed": false
   },
   "outputs": [],
   "source": [
    "# Import necessary library.\n",
    "from __future__ import print_function\n",
    "import Ngrams_pure as ng"
   ]
  },
  {
   "cell_type": "markdown",
   "metadata": {},
   "source": [
    "### Vocabulary."
   ]
  },
  {
   "cell_type": "code",
   "execution_count": 6,
   "metadata": {
    "collapsed": false
   },
   "outputs": [],
   "source": [
    "# Make vocabulary class.\n",
    "vocab = ng.Vocab()\n",
    "\n",
    "# Read file into the vocab.\n",
    "vocab.read_file('/home/rudraksh/Datasets/english/en_US.twitter_clean.txt')"
   ]
  },
  {
   "cell_type": "markdown",
   "metadata": {},
   "source": [
    "### Bigrams"
   ]
  },
  {
   "cell_type": "code",
   "execution_count": 7,
   "metadata": {
    "collapsed": false
   },
   "outputs": [],
   "source": [
    "# Make bigram class.\n",
    "bigram = ng.Bigrams()\n",
    "\n",
    "# Make bigrams from input file.\n",
    "bigram.read_file('/home/rudraksh/Datasets/english/en_US.twitter_clean.txt')\n",
    "\n",
    "# Get smoothed bigrams and unigrams.\n",
    "sm_bigrams, sm_unigrams = bigram.smoothen(vocab=vocab, method='simple')"
   ]
  },
  {
   "cell_type": "markdown",
   "metadata": {},
   "source": [
    "### Model"
   ]
  },
  {
   "cell_type": "code",
   "execution_count": 20,
   "metadata": {
    "collapsed": false
   },
   "outputs": [
    {
     "name": "stdout",
     "output_type": "stream",
     "text": [
      "The probability score of sentence 'how are you': 0.00288855060795\n",
      "\n",
      "Next word predictions:\n",
      "how are you -  0.155318763415\n",
      "how are the -  0.0429361915647\n",
      "how are so -  0.0255624006913\n",
      "how are a -  0.022990828757\n",
      "how are not -  0.0184330833775\n"
     ]
    }
   ],
   "source": [
    "# Make model class.\n",
    "m = ng.Model(sm_unigrams,sm_bigrams)\n",
    "\n",
    "# Ask the model to score a sentence.\n",
    "sentence = \"how are you\"\n",
    "score = m.score_sentence(sentence)\n",
    "print(\"The probability score of sentence '{}': {}\".format(sentence,score))\n",
    "print('')\n",
    "\n",
    "# Ask the model to predict next word.\n",
    "sentence = 'how are'\n",
    "preds = m.predict(sentence, 5)\n",
    "print(\"Next word predictions:\")\n",
    "for i,p in enumerate(preds):\n",
    "    print(sentence + ' ' + p[0] + ' - ' ,p[1])\n"
   ]
  }
 ],
 "metadata": {
  "anaconda-cloud": {},
  "kernelspec": {
   "display_name": "Python [default]",
   "language": "python",
   "name": "python2"
  }
 },
 "nbformat": 4,
 "nbformat_minor": 1
}
